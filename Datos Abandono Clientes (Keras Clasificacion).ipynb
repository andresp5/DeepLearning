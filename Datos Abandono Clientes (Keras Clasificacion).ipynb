{
 "cells": [
  {
   "cell_type": "code",
   "execution_count": 1,
   "id": "1b60bc61",
   "metadata": {},
   "outputs": [],
   "source": [
    "import warnings\n",
    "warnings.filterwarnings('ignore')\n",
    "\n",
    "from keras import Sequential, Input\n",
    "from keras.layers import Flatten, Dense\n",
    "\n",
    "import numpy as np\n",
    "import pylab as plt\n",
    "import pandas as pd\n",
    "import seaborn as sns\n",
    "import plotly.express as px\n",
    "\n",
    "from sklearn.metrics import confusion_matrix as cm\n",
    "from sklearn.metrics import classification_report as report\n",
    "from sklearn.preprocessing import StandardScaler\n",
    "from sklearn.model_selection import train_test_split as tts"
   ]
  },
  {
   "cell_type": "code",
   "execution_count": 2,
   "id": "53bd67e9",
   "metadata": {},
   "outputs": [
    {
     "data": {
      "text/html": [
       "<div>\n",
       "<style scoped>\n",
       "    .dataframe tbody tr th:only-of-type {\n",
       "        vertical-align: middle;\n",
       "    }\n",
       "\n",
       "    .dataframe tbody tr th {\n",
       "        vertical-align: top;\n",
       "    }\n",
       "\n",
       "    .dataframe thead th {\n",
       "        text-align: right;\n",
       "    }\n",
       "</style>\n",
       "<table border=\"1\" class=\"dataframe\">\n",
       "  <thead>\n",
       "    <tr style=\"text-align: right;\">\n",
       "      <th></th>\n",
       "      <th>CustomerID</th>\n",
       "      <th>Age</th>\n",
       "      <th>Gender</th>\n",
       "      <th>Tenure</th>\n",
       "      <th>Usage Frequency</th>\n",
       "      <th>Support Calls</th>\n",
       "      <th>Payment Delay</th>\n",
       "      <th>Subscription Type</th>\n",
       "      <th>Contract Length</th>\n",
       "      <th>Total Spend</th>\n",
       "      <th>Last Interaction</th>\n",
       "      <th>Churn</th>\n",
       "    </tr>\n",
       "  </thead>\n",
       "  <tbody>\n",
       "    <tr>\n",
       "      <th>0</th>\n",
       "      <td>2.0</td>\n",
       "      <td>30.0</td>\n",
       "      <td>Female</td>\n",
       "      <td>39.0</td>\n",
       "      <td>14.0</td>\n",
       "      <td>5.0</td>\n",
       "      <td>18.0</td>\n",
       "      <td>Standard</td>\n",
       "      <td>Annual</td>\n",
       "      <td>932.0</td>\n",
       "      <td>17.0</td>\n",
       "      <td>1.0</td>\n",
       "    </tr>\n",
       "    <tr>\n",
       "      <th>1</th>\n",
       "      <td>3.0</td>\n",
       "      <td>65.0</td>\n",
       "      <td>Female</td>\n",
       "      <td>49.0</td>\n",
       "      <td>1.0</td>\n",
       "      <td>10.0</td>\n",
       "      <td>8.0</td>\n",
       "      <td>Basic</td>\n",
       "      <td>Monthly</td>\n",
       "      <td>557.0</td>\n",
       "      <td>6.0</td>\n",
       "      <td>1.0</td>\n",
       "    </tr>\n",
       "    <tr>\n",
       "      <th>2</th>\n",
       "      <td>4.0</td>\n",
       "      <td>55.0</td>\n",
       "      <td>Female</td>\n",
       "      <td>14.0</td>\n",
       "      <td>4.0</td>\n",
       "      <td>6.0</td>\n",
       "      <td>18.0</td>\n",
       "      <td>Basic</td>\n",
       "      <td>Quarterly</td>\n",
       "      <td>185.0</td>\n",
       "      <td>3.0</td>\n",
       "      <td>1.0</td>\n",
       "    </tr>\n",
       "    <tr>\n",
       "      <th>3</th>\n",
       "      <td>5.0</td>\n",
       "      <td>58.0</td>\n",
       "      <td>Male</td>\n",
       "      <td>38.0</td>\n",
       "      <td>21.0</td>\n",
       "      <td>7.0</td>\n",
       "      <td>7.0</td>\n",
       "      <td>Standard</td>\n",
       "      <td>Monthly</td>\n",
       "      <td>396.0</td>\n",
       "      <td>29.0</td>\n",
       "      <td>1.0</td>\n",
       "    </tr>\n",
       "    <tr>\n",
       "      <th>4</th>\n",
       "      <td>6.0</td>\n",
       "      <td>23.0</td>\n",
       "      <td>Male</td>\n",
       "      <td>32.0</td>\n",
       "      <td>20.0</td>\n",
       "      <td>5.0</td>\n",
       "      <td>8.0</td>\n",
       "      <td>Basic</td>\n",
       "      <td>Monthly</td>\n",
       "      <td>617.0</td>\n",
       "      <td>20.0</td>\n",
       "      <td>1.0</td>\n",
       "    </tr>\n",
       "  </tbody>\n",
       "</table>\n",
       "</div>"
      ],
      "text/plain": [
       "   CustomerID   Age  Gender  Tenure  Usage Frequency  Support Calls  \\\n",
       "0         2.0  30.0  Female    39.0             14.0            5.0   \n",
       "1         3.0  65.0  Female    49.0              1.0           10.0   \n",
       "2         4.0  55.0  Female    14.0              4.0            6.0   \n",
       "3         5.0  58.0    Male    38.0             21.0            7.0   \n",
       "4         6.0  23.0    Male    32.0             20.0            5.0   \n",
       "\n",
       "   Payment Delay Subscription Type Contract Length  Total Spend  \\\n",
       "0           18.0          Standard          Annual        932.0   \n",
       "1            8.0             Basic         Monthly        557.0   \n",
       "2           18.0             Basic       Quarterly        185.0   \n",
       "3            7.0          Standard         Monthly        396.0   \n",
       "4            8.0             Basic         Monthly        617.0   \n",
       "\n",
       "   Last Interaction  Churn  \n",
       "0              17.0    1.0  \n",
       "1               6.0    1.0  \n",
       "2               3.0    1.0  \n",
       "3              29.0    1.0  \n",
       "4              20.0    1.0  "
      ]
     },
     "execution_count": 2,
     "metadata": {},
     "output_type": "execute_result"
    }
   ],
   "source": [
    "df = pd.read_csv(r\"C:\\Users\\apico\\OneDrive\\Escritorio\\DEEP LEARNING\\PRACTICAS\\BBDD\\Customer Churn\\customer_churn_dataset-training-master.csv\")\n",
    "df.head()"
   ]
  },
  {
   "cell_type": "code",
   "execution_count": 3,
   "id": "4199ae28",
   "metadata": {},
   "outputs": [
    {
     "data": {
      "text/plain": [
       "(440833, 12)"
      ]
     },
     "execution_count": 3,
     "metadata": {},
     "output_type": "execute_result"
    }
   ],
   "source": [
    "df.shape"
   ]
  },
  {
   "cell_type": "code",
   "execution_count": 4,
   "id": "27ddf88d",
   "metadata": {},
   "outputs": [
    {
     "name": "stdout",
     "output_type": "stream",
     "text": [
      "<class 'pandas.core.frame.DataFrame'>\n",
      "RangeIndex: 440833 entries, 0 to 440832\n",
      "Data columns (total 12 columns):\n",
      " #   Column             Non-Null Count   Dtype  \n",
      "---  ------             --------------   -----  \n",
      " 0   CustomerID         440832 non-null  float64\n",
      " 1   Age                440832 non-null  float64\n",
      " 2   Gender             440832 non-null  object \n",
      " 3   Tenure             440832 non-null  float64\n",
      " 4   Usage Frequency    440832 non-null  float64\n",
      " 5   Support Calls      440832 non-null  float64\n",
      " 6   Payment Delay      440832 non-null  float64\n",
      " 7   Subscription Type  440832 non-null  object \n",
      " 8   Contract Length    440832 non-null  object \n",
      " 9   Total Spend        440832 non-null  float64\n",
      " 10  Last Interaction   440832 non-null  float64\n",
      " 11  Churn              440832 non-null  float64\n",
      "dtypes: float64(9), object(3)\n",
      "memory usage: 40.4+ MB\n"
     ]
    }
   ],
   "source": [
    "df.info()"
   ]
  },
  {
   "cell_type": "markdown",
   "id": "c8de26b3",
   "metadata": {},
   "source": [
    "### Limpieza y transformación de datos"
   ]
  },
  {
   "cell_type": "code",
   "execution_count": 5,
   "id": "8924572d",
   "metadata": {},
   "outputs": [],
   "source": [
    "# Eliminamos columnas no representativas\n",
    "\n",
    "df = df.drop(['CustomerID'], axis =1)"
   ]
  },
  {
   "cell_type": "code",
   "execution_count": 6,
   "id": "a12eaa58",
   "metadata": {},
   "outputs": [
    {
     "data": {
      "text/plain": [
       "Age                  1\n",
       "Gender               1\n",
       "Tenure               1\n",
       "Usage Frequency      1\n",
       "Support Calls        1\n",
       "Payment Delay        1\n",
       "Subscription Type    1\n",
       "Contract Length      1\n",
       "Total Spend          1\n",
       "Last Interaction     1\n",
       "Churn                1\n",
       "dtype: int64"
      ]
     },
     "execution_count": 6,
     "metadata": {},
     "output_type": "execute_result"
    }
   ],
   "source": [
    "# Buscamos valores nulos\n",
    "df.isna().sum()"
   ]
  },
  {
   "cell_type": "code",
   "execution_count": 7,
   "id": "c20f1898",
   "metadata": {},
   "outputs": [],
   "source": [
    "df = df.dropna()"
   ]
  },
  {
   "cell_type": "code",
   "execution_count": 8,
   "id": "181dd7a9",
   "metadata": {},
   "outputs": [
    {
     "data": {
      "text/plain": [
       "Age                 False\n",
       "Tenure              False\n",
       "Usage Frequency     False\n",
       "Support Calls       False\n",
       "Payment Delay       False\n",
       "Total Spend         False\n",
       "Last Interaction    False\n",
       "Churn               False\n",
       "dtype: bool"
      ]
     },
     "execution_count": 8,
     "metadata": {},
     "output_type": "execute_result"
    }
   ],
   "source": [
    "# Buscamos negativos\n",
    "columnas = ['Age','Tenure','Usage Frequency','Support Calls','Payment Delay','Total Spend','Last Interaction', 'Churn']\n",
    "negativos = (df[columnas] < 0).any()\n",
    "negativos"
   ]
  },
  {
   "cell_type": "code",
   "execution_count": 9,
   "id": "27f010fd",
   "metadata": {},
   "outputs": [
    {
     "data": {
      "text/plain": [
       "Age                 False\n",
       "Tenure              False\n",
       "Usage Frequency     False\n",
       "Support Calls        True\n",
       "Payment Delay        True\n",
       "Total Spend         False\n",
       "Last Interaction    False\n",
       "Churn                True\n",
       "dtype: bool"
      ]
     },
     "execution_count": 9,
     "metadata": {},
     "output_type": "execute_result"
    }
   ],
   "source": [
    "# Buscamos valores 0 en todas las columnas\n",
    "columnas = ['Age','Tenure','Usage Frequency','Support Calls','Payment Delay','Total Spend','Last Interaction', 'Churn']\n",
    "valores_0 = (df[columnas] == 0).any()\n",
    "valores_0\n",
    "# Los ceros en 'Support Calls', 'Payment Delay' y 'Churn' son totalmente válidos"
   ]
  },
  {
   "cell_type": "code",
   "execution_count": 10,
   "id": "9178912d",
   "metadata": {},
   "outputs": [
    {
     "data": {
      "image/png": "[encoded data removed]",
      "text/plain": [
       "<Figure size 2000x1000 with 8 Axes>"
      ]
     },
     "metadata": {},
     "output_type": "display_data"
    }
   ],
   "source": [
    "# Visualización de datos en busca de outliers o erroneos\n",
    "\n",
    "num_vars = ['Age','Tenure','Usage Frequency','Support Calls','Payment Delay','Total Spend','Last Interaction', 'Churn']\n",
    "\n",
    "fig, axs = plt.subplots(nrows=4, ncols=2, figsize=(20, 10))\n",
    "axs = axs.flatten()\n",
    "\n",
    "for i, var in enumerate(num_vars):\n",
    "    sns.boxplot(x=var, data=df, ax=axs[i])\n",
    "\n",
    "fig.tight_layout()\n",
    "\n",
    "plt.show()\n",
    "\n",
    "# No hay valores atípicos"
   ]
  },
  {
   "cell_type": "code",
   "execution_count": 11,
   "id": "2fd497b1",
   "metadata": {},
   "outputs": [
    {
     "data": {
      "text/html": [
       "<div>\n",
       "<style scoped>\n",
       "    .dataframe tbody tr th:only-of-type {\n",
       "        vertical-align: middle;\n",
       "    }\n",
       "\n",
       "    .dataframe tbody tr th {\n",
       "        vertical-align: top;\n",
       "    }\n",
       "\n",
       "    .dataframe thead th {\n",
       "        text-align: right;\n",
       "    }\n",
       "</style>\n",
       "<table border=\"1\" class=\"dataframe\">\n",
       "  <thead>\n",
       "    <tr style=\"text-align: right;\">\n",
       "      <th></th>\n",
       "      <th>Age</th>\n",
       "      <th>Gender</th>\n",
       "      <th>Tenure</th>\n",
       "      <th>Usage Frequency</th>\n",
       "      <th>Support Calls</th>\n",
       "      <th>Payment Delay</th>\n",
       "      <th>Subscription Type</th>\n",
       "      <th>Contract Length</th>\n",
       "      <th>Total Spend</th>\n",
       "      <th>Last Interaction</th>\n",
       "      <th>Churn</th>\n",
       "    </tr>\n",
       "  </thead>\n",
       "  <tbody>\n",
       "    <tr>\n",
       "      <th>0</th>\n",
       "      <td>30.0</td>\n",
       "      <td>Female</td>\n",
       "      <td>39.0</td>\n",
       "      <td>14.0</td>\n",
       "      <td>5.0</td>\n",
       "      <td>18.0</td>\n",
       "      <td>Standard</td>\n",
       "      <td>Annual</td>\n",
       "      <td>932.0</td>\n",
       "      <td>17.0</td>\n",
       "      <td>1.0</td>\n",
       "    </tr>\n",
       "    <tr>\n",
       "      <th>1</th>\n",
       "      <td>65.0</td>\n",
       "      <td>Female</td>\n",
       "      <td>49.0</td>\n",
       "      <td>1.0</td>\n",
       "      <td>10.0</td>\n",
       "      <td>8.0</td>\n",
       "      <td>Basic</td>\n",
       "      <td>Monthly</td>\n",
       "      <td>557.0</td>\n",
       "      <td>6.0</td>\n",
       "      <td>1.0</td>\n",
       "    </tr>\n",
       "    <tr>\n",
       "      <th>2</th>\n",
       "      <td>55.0</td>\n",
       "      <td>Female</td>\n",
       "      <td>14.0</td>\n",
       "      <td>4.0</td>\n",
       "      <td>6.0</td>\n",
       "      <td>18.0</td>\n",
       "      <td>Basic</td>\n",
       "      <td>Quarterly</td>\n",
       "      <td>185.0</td>\n",
       "      <td>3.0</td>\n",
       "      <td>1.0</td>\n",
       "    </tr>\n",
       "    <tr>\n",
       "      <th>3</th>\n",
       "      <td>58.0</td>\n",
       "      <td>Male</td>\n",
       "      <td>38.0</td>\n",
       "      <td>21.0</td>\n",
       "      <td>7.0</td>\n",
       "      <td>7.0</td>\n",
       "      <td>Standard</td>\n",
       "      <td>Monthly</td>\n",
       "      <td>396.0</td>\n",
       "      <td>29.0</td>\n",
       "      <td>1.0</td>\n",
       "    </tr>\n",
       "    <tr>\n",
       "      <th>4</th>\n",
       "      <td>23.0</td>\n",
       "      <td>Male</td>\n",
       "      <td>32.0</td>\n",
       "      <td>20.0</td>\n",
       "      <td>5.0</td>\n",
       "      <td>8.0</td>\n",
       "      <td>Basic</td>\n",
       "      <td>Monthly</td>\n",
       "      <td>617.0</td>\n",
       "      <td>20.0</td>\n",
       "      <td>1.0</td>\n",
       "    </tr>\n",
       "  </tbody>\n",
       "</table>\n",
       "</div>"
      ],
      "text/plain": [
       "    Age  Gender  Tenure  Usage Frequency  Support Calls  Payment Delay  \\\n",
       "0  30.0  Female    39.0             14.0            5.0           18.0   \n",
       "1  65.0  Female    49.0              1.0           10.0            8.0   \n",
       "2  55.0  Female    14.0              4.0            6.0           18.0   \n",
       "3  58.0    Male    38.0             21.0            7.0            7.0   \n",
       "4  23.0    Male    32.0             20.0            5.0            8.0   \n",
       "\n",
       "  Subscription Type Contract Length  Total Spend  Last Interaction  Churn  \n",
       "0          Standard          Annual        932.0              17.0    1.0  \n",
       "1             Basic         Monthly        557.0               6.0    1.0  \n",
       "2             Basic       Quarterly        185.0               3.0    1.0  \n",
       "3          Standard         Monthly        396.0              29.0    1.0  \n",
       "4             Basic         Monthly        617.0              20.0    1.0  "
      ]
     },
     "execution_count": 11,
     "metadata": {},
     "output_type": "execute_result"
    }
   ],
   "source": [
    "df.head()"
   ]
  },
  {
   "cell_type": "code",
   "execution_count": 12,
   "id": "ffd05aac",
   "metadata": {},
   "outputs": [
    {
     "data": {
      "text/plain": [
       "array(['Annual', 'Monthly', 'Quarterly'], dtype=object)"
      ]
     },
     "execution_count": 12,
     "metadata": {},
     "output_type": "execute_result"
    }
   ],
   "source": [
    "df['Contract Length'].unique()"
   ]
  },
  {
   "cell_type": "code",
   "execution_count": 13,
   "id": "cd728ea9",
   "metadata": {},
   "outputs": [
    {
     "data": {
      "text/plain": [
       "array(['Standard', 'Basic', 'Premium'], dtype=object)"
      ]
     },
     "execution_count": 13,
     "metadata": {},
     "output_type": "execute_result"
    }
   ],
   "source": [
    "df['Subscription Type'].unique()"
   ]
  },
  {
   "cell_type": "code",
   "execution_count": null,
   "id": "cfcf28cd",
   "metadata": {},
   "outputs": [],
   "source": [
    "# Aplicamos get dummies para que todas las columnas valgan lo mismo \n",
    "\n",
    "\n",
    "# 'Gender'\n",
    "\n",
    "df = pd.get_dummies(df, columns=['Gender'])\n",
    "df.rename(columns = {'Gender_1': 'Female', 'Gender_2': 'Male'}, inplace=True)\n",
    "df.columns = df.columns.str.replace('Gender_', '')\n",
    "\n",
    "# 'Subscription Type'\n",
    "\n",
    "df = pd.get_dummies(df, columns=['Subscription Type'])\n",
    "df.rename(columns = {'Subscription Type_1': 'Standard', \n",
    "                     'Subscription Type_2': 'Basic',\n",
    "                     'Subscription Type_3': 'Premium'}, inplace=True)\n",
    "df.columns = df.columns.str.replace('Subscription Type_', '')\n",
    "\n",
    "\n",
    "# 'Contract Length'\n",
    "\n",
    "df = pd.get_dummies(df, columns=['Contract Length'])\n",
    "df.rename(columns = {'Contract Length_1': 'Annual', \n",
    "                     'Contract Length_2': 'Monthly',\n",
    "                     'Contract Length_3': 'Quarterly'}, inplace=True)\n",
    "df.columns = df.columns.str.replace('Contract Length_', '')\n",
    "\n",
    "\n",
    "df.head()"
   ]
  },
  {
   "cell_type": "markdown",
   "id": "31fccff7",
   "metadata": {},
   "source": [
    "### Separación e inspección de los datos "
   ]
  },
  {
   "cell_type": "code",
   "execution_count": 15,
   "id": "1035d39a",
   "metadata": {},
   "outputs": [],
   "source": [
    "X = df.drop('Churn', axis=1)\n",
    "\n",
    "y = df.Churn"
   ]
  },
  {
   "cell_type": "code",
   "execution_count": 16,
   "id": "27911081",
   "metadata": {},
   "outputs": [
    {
     "data": {
      "text/html": [
       "<div>\n",
       "<style scoped>\n",
       "    .dataframe tbody tr th:only-of-type {\n",
       "        vertical-align: middle;\n",
       "    }\n",
       "\n",
       "    .dataframe tbody tr th {\n",
       "        vertical-align: top;\n",
       "    }\n",
       "\n",
       "    .dataframe thead th {\n",
       "        text-align: right;\n",
       "    }\n",
       "</style>\n",
       "<table border=\"1\" class=\"dataframe\">\n",
       "  <thead>\n",
       "    <tr style=\"text-align: right;\">\n",
       "      <th></th>\n",
       "      <th>Age</th>\n",
       "      <th>Tenure</th>\n",
       "      <th>Usage Frequency</th>\n",
       "      <th>Support Calls</th>\n",
       "      <th>Payment Delay</th>\n",
       "      <th>Total Spend</th>\n",
       "      <th>Last Interaction</th>\n",
       "    </tr>\n",
       "  </thead>\n",
       "  <tbody>\n",
       "    <tr>\n",
       "      <th>0</th>\n",
       "      <td>-0.753326</td>\n",
       "      <td>0.448760</td>\n",
       "      <td>-0.210511</td>\n",
       "      <td>0.454549</td>\n",
       "      <td>0.609620</td>\n",
       "      <td>1.247427</td>\n",
       "      <td>0.293052</td>\n",
       "    </tr>\n",
       "    <tr>\n",
       "      <th>1</th>\n",
       "      <td>2.059646</td>\n",
       "      <td>1.028278</td>\n",
       "      <td>-1.724562</td>\n",
       "      <td>2.083100</td>\n",
       "      <td>-0.601319</td>\n",
       "      <td>-0.309865</td>\n",
       "      <td>-0.986584</td>\n",
       "    </tr>\n",
       "    <tr>\n",
       "      <th>2</th>\n",
       "      <td>1.255940</td>\n",
       "      <td>-1.000036</td>\n",
       "      <td>-1.375166</td>\n",
       "      <td>0.780259</td>\n",
       "      <td>0.609620</td>\n",
       "      <td>-1.854698</td>\n",
       "      <td>-1.335575</td>\n",
       "    </tr>\n",
       "    <tr>\n",
       "      <th>3</th>\n",
       "      <td>1.497051</td>\n",
       "      <td>0.390808</td>\n",
       "      <td>0.604748</td>\n",
       "      <td>1.105969</td>\n",
       "      <td>-0.722413</td>\n",
       "      <td>-0.978462</td>\n",
       "      <td>1.689018</td>\n",
       "    </tr>\n",
       "    <tr>\n",
       "      <th>4</th>\n",
       "      <td>-1.315921</td>\n",
       "      <td>0.043097</td>\n",
       "      <td>0.488282</td>\n",
       "      <td>0.454549</td>\n",
       "      <td>-0.601319</td>\n",
       "      <td>-0.060698</td>\n",
       "      <td>0.642043</td>\n",
       "    </tr>\n",
       "  </tbody>\n",
       "</table>\n",
       "</div>"
      ],
      "text/plain": [
       "        Age    Tenure  Usage Frequency  Support Calls  Payment Delay  \\\n",
       "0 -0.753326  0.448760        -0.210511       0.454549       0.609620   \n",
       "1  2.059646  1.028278        -1.724562       2.083100      -0.601319   \n",
       "2  1.255940 -1.000036        -1.375166       0.780259       0.609620   \n",
       "3  1.497051  0.390808         0.604748       1.105969      -0.722413   \n",
       "4 -1.315921  0.043097         0.488282       0.454549      -0.601319   \n",
       "\n",
       "   Total Spend  Last Interaction  \n",
       "0     1.247427          0.293052  \n",
       "1    -0.309865         -0.986584  \n",
       "2    -1.854698         -1.335575  \n",
       "3    -0.978462          1.689018  \n",
       "4    -0.060698          0.642043  "
      ]
     },
     "execution_count": 16,
     "metadata": {},
     "output_type": "execute_result"
    }
   ],
   "source": [
    "# Normalización\n",
    "\n",
    "X[X.columns] = StandardScaler().fit_transform(X)\n",
    "X.head()"
   ]
  },
  {
   "cell_type": "code",
   "execution_count": 17,
   "id": "e38ed91d",
   "metadata": {},
   "outputs": [],
   "source": [
    "# Separacion en paquetes de entrenamiento y testeo\n",
    "\n",
    "X_train, X_test, y_train, y_test = tts(X, y)"
   ]
  },
  {
   "cell_type": "code",
   "execution_count": 18,
   "id": "64f4e7e5",
   "metadata": {},
   "outputs": [
    {
     "data": {
      "text/plain": [
       "((330624, 7), (110208, 7), (330624,), (110208,))"
      ]
     },
     "execution_count": 18,
     "metadata": {},
     "output_type": "execute_result"
    }
   ],
   "source": [
    "# Contamos elementos que componen las datos de prueba y validación\n",
    "\n",
    "X_train.shape, X_test.shape, y_train.shape, y_test.shape"
   ]
  },
  {
   "cell_type": "markdown",
   "id": "3c06070d",
   "metadata": {},
   "source": [
    "### Modelo"
   ]
  },
  {
   "cell_type": "code",
   "execution_count": 19,
   "id": "84bdeb91",
   "metadata": {},
   "outputs": [],
   "source": [
    "model = Sequential()\n",
    "\n",
    "model.add(Dense(64,                # Dense(64 neuronas)   \n",
    "                activation='relu',  # Funcion de activación, relu = unidad de rectificado lineal\n",
    "                input_shape=[X_train.shape[1]])) # las columnas del dataFrame, 9 en este caso\n",
    "\n",
    "model.add(Dense(256, activation='relu'))\n",
    "\n",
    "model.add(Dense(1, activation='softmax'))"
   ]
  },
  {
   "cell_type": "code",
   "execution_count": 20,
   "id": "29a3b4f2",
   "metadata": {},
   "outputs": [],
   "source": [
    "model.compile(optimizer='adam',\n",
    "              loss='binary_crossentropy',\n",
    "              metrics=['accuracy'])"
   ]
  },
  {
   "cell_type": "code",
   "execution_count": 21,
   "id": "8af73ee9",
   "metadata": {},
   "outputs": [
    {
     "name": "stdout",
     "output_type": "stream",
     "text": [
      "Model: \"sequential\"\n",
      "_________________________________________________________________\n",
      " Layer (type)                Output Shape              Param #   \n",
      "=================================================================\n",
      " dense (Dense)               (None, 64)                512       \n",
      "                                                                 \n",
      " dense_1 (Dense)             (None, 256)               16640     \n",
      "                                                                 \n",
      " dense_2 (Dense)             (None, 1)                 257       \n",
      "                                                                 \n",
      "=================================================================\n",
      "Total params: 17,409\n",
      "Trainable params: 17,409\n",
      "Non-trainable params: 0\n",
      "_________________________________________________________________\n"
     ]
    }
   ],
   "source": [
    "model.summary()"
   ]
  },
  {
   "cell_type": "markdown",
   "id": "01770185",
   "metadata": {},
   "source": [
    "### Entrenamiento"
   ]
  },
  {
   "cell_type": "code",
   "execution_count": 22,
   "id": "397c14e0",
   "metadata": {},
   "outputs": [
    {
     "name": "stdout",
     "output_type": "stream",
     "text": [
      "Epoch 1/10\n",
      "10332/10332 [==============================] - 8s 769us/step - loss: 0.1314 - accuracy: 0.5669\n",
      "Epoch 2/10\n",
      "10332/10332 [==============================] - 8s 764us/step - loss: 0.1108 - accuracy: 0.5669\n",
      "Epoch 3/10\n",
      "10332/10332 [==============================] - 8s 764us/step - loss: 0.1066 - accuracy: 0.5669\n",
      "Epoch 4/10\n",
      "10332/10332 [==============================] - 8s 763us/step - loss: 0.1041 - accuracy: 0.5669\n",
      "Epoch 5/10\n",
      "10332/10332 [==============================] - 8s 766us/step - loss: 0.1023 - accuracy: 0.5669\n",
      "Epoch 6/10\n",
      "10332/10332 [==============================] - 8s 769us/step - loss: 0.1014 - accuracy: 0.5669\n",
      "Epoch 7/10\n",
      "10332/10332 [==============================] - 8s 761us/step - loss: 0.1009 - accuracy: 0.5669\n",
      "Epoch 8/10\n",
      "10332/10332 [==============================] - 8s 762us/step - loss: 0.1004 - accuracy: 0.5669\n",
      "Epoch 9/10\n",
      "10332/10332 [==============================] - 8s 776us/step - loss: 0.1000 - accuracy: 0.5669\n",
      "Epoch 10/10\n",
      "10332/10332 [==============================] - 8s 772us/step - loss: 0.0999 - accuracy: 0.5669\n"
     ]
    },
    {
     "data": {
      "text/plain": [
       "<keras.callbacks.History at 0x23202891f00>"
      ]
     },
     "execution_count": 22,
     "metadata": {},
     "output_type": "execute_result"
    }
   ],
   "source": [
    "model.fit(X_train, y_train, epochs=10)"
   ]
  },
  {
   "cell_type": "markdown",
   "id": "dd3dc19f",
   "metadata": {},
   "source": [
    "### Evaluación y predicción"
   ]
  },
  {
   "cell_type": "code",
   "execution_count": 23,
   "id": "122a8767",
   "metadata": {},
   "outputs": [
    {
     "name": "stdout",
     "output_type": "stream",
     "text": [
      "3444/3444 - 2s - loss: 0.1002 - accuracy: 0.5677 - 2s/epoch - 553us/step\n",
      "\n",
      "Test accuracy: 0.5677355527877808\n"
     ]
    }
   ],
   "source": [
    "test_loss, test_acc = model.evaluate(X_test,  y_test, verbose=2)\n",
    "\n",
    "print('\\nTest accuracy:', test_acc)"
   ]
  },
  {
   "cell_type": "code",
   "execution_count": 24,
   "id": "62629648",
   "metadata": {},
   "outputs": [
    {
     "name": "stdout",
     "output_type": "stream",
     "text": [
      "3444/3444 [==============================] - 2s 540us/step\n"
     ]
    }
   ],
   "source": [
    "y_prob = model.predict(X_test)"
   ]
  },
  {
   "cell_type": "code",
   "execution_count": 25,
   "id": "9db08022",
   "metadata": {},
   "outputs": [
    {
     "data": {
      "text/plain": [
       "array([0, 0, 0, ..., 0, 0, 0], dtype=int64)"
      ]
     },
     "execution_count": 25,
     "metadata": {},
     "output_type": "execute_result"
    }
   ],
   "source": [
    "y_pred = np.argmax(y_prob, axis=1)\n",
    "\n",
    "y_pred"
   ]
  },
  {
   "cell_type": "code",
   "execution_count": 26,
   "id": "28124892",
   "metadata": {},
   "outputs": [
    {
     "data": {
      "text/plain": [
       "411909    0.0\n",
       "149967    1.0\n",
       "285057    0.0\n",
       "192047    1.0\n",
       "344346    0.0\n",
       "         ... \n",
       "222576    1.0\n",
       "151786    1.0\n",
       "45120     1.0\n",
       "77226     1.0\n",
       "100685    1.0\n",
       "Name: Churn, Length: 110208, dtype: float64"
      ]
     },
     "execution_count": 26,
     "metadata": {},
     "output_type": "execute_result"
    }
   ],
   "source": [
    "y_test"
   ]
  },
  {
   "cell_type": "code",
   "execution_count": 27,
   "id": "67a06065",
   "metadata": {},
   "outputs": [
    {
     "name": "stdout",
     "output_type": "stream",
     "text": [
      "              precision    recall  f1-score   support\n",
      "\n",
      "         0.0       0.43      1.00      0.60     47639\n",
      "         1.0       0.00      0.00      0.00     62569\n",
      "\n",
      "    accuracy                           0.43    110208\n",
      "   macro avg       0.22      0.50      0.30    110208\n",
      "weighted avg       0.19      0.43      0.26    110208\n",
      "\n"
     ]
    }
   ],
   "source": [
    "print(report(y_test, y_pred))"
   ]
  },
  {
   "cell_type": "markdown",
   "id": "6d8fa654",
   "metadata": {},
   "source": [
    "Conclusión"
   ]
  },
  {
   "cell_type": "markdown",
   "id": "2a54e2c2",
   "metadata": {},
   "source": [
    "He realizao una primera limpieza de valores negativos, ceros y nulos. Después, mediante boxplots, he comprobado que no teniamos outliers. Una vez comprobado, he aplicado get dummies para categorizar todas las columnas y tener todos los datos numéricos.\n",
    "He aplicado un modelo de clasificación para intentar predecir la variable 'Churn', pero mis resultados no han sido concluyentes, ya que me ha dado un 0.43%, resultado realmente malo. He intentado realizarlo mediante la aplicación de más épocas, eliminando todas las columnas que pudieran alterar el resultado, pero me ha dado siempre un resultado parecido."
   ]
  },
  {
   "cell_type": "code",
   "execution_count": null,
   "id": "b6e39cc8",
   "metadata": {},
   "outputs": [],
   "source": []
  },
  {
   "cell_type": "code",
   "execution_count": null,
   "id": "fe75ab81",
   "metadata": {},
   "outputs": [],
   "source": []
  },
  {
   "cell_type": "code",
   "execution_count": null,
   "id": "30790ca6",
   "metadata": {},
   "outputs": [],
   "source": []
  }
 ],
 "metadata": {
  "kernelspec": {
   "display_name": "Python 3 (ipykernel)",
   "language": "python",
   "name": "python3"
  },
  "language_info": {
   "codemirror_mode": {
    "name": "ipython",
    "version": 3
   },
   "file_extension": ".py",
   "mimetype": "text/x-python",
   "name": "python",
   "nbconvert_exporter": "python",
   "pygments_lexer": "ipython3",
   "version": "3.10.9"
  },
  "varInspector": {
   "cols": {
    "lenName": 16,
    "lenType": 16,
    "lenVar": 40
   },
   "kernels_config": {
    "python": {
     "delete_cmd_postfix": "",
     "delete_cmd_prefix": "del ",
     "library": "var_list.py",
     "varRefreshCmd": "print(var_dic_list())"
    },
    "r": {
     "delete_cmd_postfix": ") ",
     "delete_cmd_prefix": "rm(",
     "library": "var_list.r",
     "varRefreshCmd": "cat(var_dic_list()) "
    }
   },
   "types_to_exclude": [
    "module",
    "function",
    "builtin_function_or_method",
    "instance",
    "_Feature"
   ],
   "window_display": false
  }
 },
 "nbformat": 4,
 "nbformat_minor": 5
}
